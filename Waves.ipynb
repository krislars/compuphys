{
  "nbformat": 4,
  "nbformat_minor": 0,
  "metadata": {
    "colab": {
      "provenance": [],
      "authorship_tag": "ABX9TyNtAPMcz1ruhZXq6EKiFztM",
      "include_colab_link": true
    },
    "kernelspec": {
      "name": "python3",
      "display_name": "Python 3"
    },
    "language_info": {
      "name": "python"
    },
    "widgets": {
      "application/vnd.jupyter.widget-state+json": {
        "de501ede94c14524908d4a4fbc167670": {
          "model_module": "@jupyter-widgets/controls",
          "model_name": "VBoxModel",
          "model_module_version": "1.5.0",
          "state": {
            "_dom_classes": [
              "widget-interact"
            ],
            "_model_module": "@jupyter-widgets/controls",
            "_model_module_version": "1.5.0",
            "_model_name": "VBoxModel",
            "_view_count": null,
            "_view_module": "@jupyter-widgets/controls",
            "_view_module_version": "1.5.0",
            "_view_name": "VBoxView",
            "box_style": "",
            "children": [
              "IPY_MODEL_b06d66b35d2d471ebf1df1248d93cbe0",
              "IPY_MODEL_914d5f7e888a4a95b55b945d65ae6de5"
            ],
            "layout": "IPY_MODEL_7f4a9272fbd74c07be7c17d7f97149d9"
          }
        },
        "b06d66b35d2d471ebf1df1248d93cbe0": {
          "model_module": "@jupyter-widgets/controls",
          "model_name": "IntSliderModel",
          "model_module_version": "1.5.0",
          "state": {
            "_dom_classes": [],
            "_model_module": "@jupyter-widgets/controls",
            "_model_module_version": "1.5.0",
            "_model_name": "IntSliderModel",
            "_view_count": null,
            "_view_module": "@jupyter-widgets/controls",
            "_view_module_version": "1.5.0",
            "_view_name": "IntSliderView",
            "continuous_update": true,
            "description": "t",
            "description_tooltip": null,
            "disabled": false,
            "layout": "IPY_MODEL_4b02001307164393b92cb2388aa74a89",
            "max": 50,
            "min": 0,
            "orientation": "horizontal",
            "readout": true,
            "readout_format": "d",
            "step": 1,
            "style": "IPY_MODEL_e2655d0c52b34680a08e644aae12808c",
            "value": 44
          }
        },
        "914d5f7e888a4a95b55b945d65ae6de5": {
          "model_module": "@jupyter-widgets/output",
          "model_name": "OutputModel",
          "model_module_version": "1.0.0",
          "state": {
            "_dom_classes": [],
            "_model_module": "@jupyter-widgets/output",
            "_model_module_version": "1.0.0",
            "_model_name": "OutputModel",
            "_view_count": null,
            "_view_module": "@jupyter-widgets/output",
            "_view_module_version": "1.0.0",
            "_view_name": "OutputView",
            "layout": "IPY_MODEL_5463757a27f84bcd86ad04a1d0842145",
            "msg_id": "3987ac5f-23a7-4874-cfa6-2a1e1e4b849a",
            "outputs": [
              {
                "output_type": "display_data",
                "data": {
                  "text/plain": "<Figure size 640x480 with 1 Axes>",
                  "image/png": "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\n"
                },
                "metadata": {}
              }
            ]
          }
        },
        "7f4a9272fbd74c07be7c17d7f97149d9": {
          "model_module": "@jupyter-widgets/base",
          "model_name": "LayoutModel",
          "model_module_version": "1.2.0",
          "state": {
            "_model_module": "@jupyter-widgets/base",
            "_model_module_version": "1.2.0",
            "_model_name": "LayoutModel",
            "_view_count": null,
            "_view_module": "@jupyter-widgets/base",
            "_view_module_version": "1.2.0",
            "_view_name": "LayoutView",
            "align_content": null,
            "align_items": null,
            "align_self": null,
            "border": null,
            "bottom": null,
            "display": null,
            "flex": null,
            "flex_flow": null,
            "grid_area": null,
            "grid_auto_columns": null,
            "grid_auto_flow": null,
            "grid_auto_rows": null,
            "grid_column": null,
            "grid_gap": null,
            "grid_row": null,
            "grid_template_areas": null,
            "grid_template_columns": null,
            "grid_template_rows": null,
            "height": null,
            "justify_content": null,
            "justify_items": null,
            "left": null,
            "margin": null,
            "max_height": null,
            "max_width": null,
            "min_height": null,
            "min_width": null,
            "object_fit": null,
            "object_position": null,
            "order": null,
            "overflow": null,
            "overflow_x": null,
            "overflow_y": null,
            "padding": null,
            "right": null,
            "top": null,
            "visibility": null,
            "width": null
          }
        },
        "4b02001307164393b92cb2388aa74a89": {
          "model_module": "@jupyter-widgets/base",
          "model_name": "LayoutModel",
          "model_module_version": "1.2.0",
          "state": {
            "_model_module": "@jupyter-widgets/base",
            "_model_module_version": "1.2.0",
            "_model_name": "LayoutModel",
            "_view_count": null,
            "_view_module": "@jupyter-widgets/base",
            "_view_module_version": "1.2.0",
            "_view_name": "LayoutView",
            "align_content": null,
            "align_items": null,
            "align_self": null,
            "border": null,
            "bottom": null,
            "display": null,
            "flex": null,
            "flex_flow": null,
            "grid_area": null,
            "grid_auto_columns": null,
            "grid_auto_flow": null,
            "grid_auto_rows": null,
            "grid_column": null,
            "grid_gap": null,
            "grid_row": null,
            "grid_template_areas": null,
            "grid_template_columns": null,
            "grid_template_rows": null,
            "height": null,
            "justify_content": null,
            "justify_items": null,
            "left": null,
            "margin": null,
            "max_height": null,
            "max_width": null,
            "min_height": null,
            "min_width": null,
            "object_fit": null,
            "object_position": null,
            "order": null,
            "overflow": null,
            "overflow_x": null,
            "overflow_y": null,
            "padding": null,
            "right": null,
            "top": null,
            "visibility": null,
            "width": null
          }
        },
        "e2655d0c52b34680a08e644aae12808c": {
          "model_module": "@jupyter-widgets/controls",
          "model_name": "SliderStyleModel",
          "model_module_version": "1.5.0",
          "state": {
            "_model_module": "@jupyter-widgets/controls",
            "_model_module_version": "1.5.0",
            "_model_name": "SliderStyleModel",
            "_view_count": null,
            "_view_module": "@jupyter-widgets/base",
            "_view_module_version": "1.2.0",
            "_view_name": "StyleView",
            "description_width": "",
            "handle_color": null
          }
        },
        "5463757a27f84bcd86ad04a1d0842145": {
          "model_module": "@jupyter-widgets/base",
          "model_name": "LayoutModel",
          "model_module_version": "1.2.0",
          "state": {
            "_model_module": "@jupyter-widgets/base",
            "_model_module_version": "1.2.0",
            "_model_name": "LayoutModel",
            "_view_count": null,
            "_view_module": "@jupyter-widgets/base",
            "_view_module_version": "1.2.0",
            "_view_name": "LayoutView",
            "align_content": null,
            "align_items": null,
            "align_self": null,
            "border": null,
            "bottom": null,
            "display": null,
            "flex": null,
            "flex_flow": null,
            "grid_area": null,
            "grid_auto_columns": null,
            "grid_auto_flow": null,
            "grid_auto_rows": null,
            "grid_column": null,
            "grid_gap": null,
            "grid_row": null,
            "grid_template_areas": null,
            "grid_template_columns": null,
            "grid_template_rows": null,
            "height": null,
            "justify_content": null,
            "justify_items": null,
            "left": null,
            "margin": null,
            "max_height": null,
            "max_width": null,
            "min_height": null,
            "min_width": null,
            "object_fit": null,
            "object_position": null,
            "order": null,
            "overflow": null,
            "overflow_x": null,
            "overflow_y": null,
            "padding": null,
            "right": null,
            "top": null,
            "visibility": null,
            "width": null
          }
        }
      }
    }
  },
  "cells": [
    {
      "cell_type": "markdown",
      "metadata": {
        "id": "view-in-github",
        "colab_type": "text"
      },
      "source": [
        "<a href=\"https://colab.research.google.com/github/krislars/compuphys/blob/main/Waves.ipynb\" target=\"_parent\"><img src=\"https://colab.research.google.com/assets/colab-badge.svg\" alt=\"Open In Colab\"/></a>"
      ]
    },
    {
      "cell_type": "code",
      "metadata": {
        "id": "IWauZ-gntY7G"
      },
      "source": [
        "import numpy as np\n",
        "from matplotlib import pyplot as plt\n",
        "from ipywidgets import interactive, interact\n",
        "import ipywidgets as widgets"
      ],
      "execution_count": null,
      "outputs": []
    },
    {
      "cell_type": "code",
      "metadata": {
        "id": "4OGcDruQ0Ky7",
        "colab": {
          "base_uri": "https://localhost:8080/"
        },
        "outputId": "442ec155-71bf-4932-945c-9f85498a2b29"
      },
      "source": [
        "size = 100\n",
        "dx = 0.1\n",
        "dt = 0.1\n",
        "v = 0.5\n",
        "r = v*dt/dx\n",
        "r"
      ],
      "execution_count": null,
      "outputs": [
        {
          "output_type": "execute_result",
          "data": {
            "text/plain": [
              "0.5"
            ]
          },
          "metadata": {},
          "execution_count": 2
        }
      ]
    },
    {
      "cell_type": "code",
      "metadata": {
        "id": "1bdvlhCEtgSH",
        "colab": {
          "base_uri": "https://localhost:8080/",
          "height": 430
        },
        "outputId": "54a98749-451b-486e-9064-495c8701ce11"
      },
      "source": [
        "x = np.arange(size)*dx\n",
        "ynow = np.zeros(size)\n",
        "yprev = np.zeros(size)\n",
        "ynext = np.zeros(size)\n",
        "\n",
        "ynow[22:37] = [0.05,0.1,0.15,0.2,0.25,0.3,0.35,0.4,0.35,0.3,0.25,0.2,0.15,0.1,0.05]\n",
        "yprev = np.copy(ynow)\n",
        "\n",
        "plt.plot(x,ynow)\n",
        "plt.ylim(-0.5,0.5)\n",
        "plt.show()"
      ],
      "execution_count": null,
      "outputs": [
        {
          "output_type": "display_data",
          "data": {
            "text/plain": [
              "<Figure size 640x480 with 1 Axes>"
            ],
            "image/png": "[encoded data removed]"
          },
          "metadata": {}
        }
      ]
    },
    {
      "cell_type": "code",
      "metadata": {
        "id": "roVntQK51QoZ"
      },
      "source": [
        "def propagate(t):\n",
        "    ynow = np.zeros(size)\n",
        "    yprev = np.zeros(size)\n",
        "    ynext = np.zeros(size)\n",
        "    ynow[22:37] = [0.05,0.1,0.15,0.2,0.25,0.3,0.35,0.4,0.35,0.3,0.25,0.2,0.15,0.1,0.05]\n",
        "    yprev[11:26] = [0.05,0.1,0.15,0.2,0.25,0.3,0.35,0.4,0.35,0.3,0.25,0.2,0.15,0.1,0.05]\n",
        "    # yprev = np.copy(ynow)\n",
        "    if t == 0:\n",
        "        plt.plot(x,ynow)\n",
        "    else:\n",
        "        for i in range(int(t/dt)):\n",
        "            for j in range(1,size-1):\n",
        "                ynext[j] = -yprev[j]+2*ynow[j]*(1-r**2) + r**2*(ynow[j+1] + ynow[j-1])\n",
        "            yprev = np.copy(ynow)\n",
        "            ynow = np.copy(ynext)\n",
        "        plt.plot(x,ynext)\n",
        "    plt.ylim(-0.5,0.5)\n",
        "    plt.show()"
      ],
      "execution_count": null,
      "outputs": []
    },
    {
      "cell_type": "code",
      "metadata": {
        "id": "ywofD1q9GG69",
        "colab": {
          "base_uri": "https://localhost:8080/",
          "height": 462,
          "referenced_widgets": [
            "de501ede94c14524908d4a4fbc167670",
            "b06d66b35d2d471ebf1df1248d93cbe0",
            "914d5f7e888a4a95b55b945d65ae6de5",
            "7f4a9272fbd74c07be7c17d7f97149d9",
            "4b02001307164393b92cb2388aa74a89",
            "e2655d0c52b34680a08e644aae12808c",
            "5463757a27f84bcd86ad04a1d0842145"
          ]
        },
        "outputId": "48ef4fe8-7ccd-4242-f94b-1c54c87029c8"
      },
      "source": [
        "interact(propagate, t=widgets.IntSlider(min=0, max=50, value=0));"
      ],
      "execution_count": null,
      "outputs": [
        {
          "output_type": "display_data",
          "data": {
            "text/plain": [
              "interactive(children=(IntSlider(value=0, description='t', max=50), Output()), _dom_classes=('widget-interact',…"
            ],
            "application/vnd.jupyter.widget-view+json": {
              "version_major": 2,
              "version_minor": 0,
              "model_id": "de501ede94c14524908d4a4fbc167670"
            }
          },
          "metadata": {}
        }
      ]
    },
    {
      "cell_type": "code",
      "metadata": {
        "id": "Ss3NiiH1JFK9"
      },
      "source": [],
      "execution_count": null,
      "outputs": []
    }
  ]
}