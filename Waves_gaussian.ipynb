{
  "nbformat": 4,
  "nbformat_minor": 0,
  "metadata": {
    "colab": {
      "provenance": [],
      "authorship_tag": "ABX9TyNlYaz14LEb6QsujKBsppNx",
      "include_colab_link": true
    },
    "kernelspec": {
      "name": "python3",
      "display_name": "Python 3"
    },
    "language_info": {
      "name": "python"
    },
    "widgets": {
      "application/vnd.jupyter.widget-state+json": {
        "0ace54816df146a6a81b6bde0b315da8": {
          "model_module": "@jupyter-widgets/controls",
          "model_name": "VBoxModel",
          "model_module_version": "1.5.0",
          "state": {
            "_dom_classes": [
              "widget-interact"
            ],
            "_model_module": "@jupyter-widgets/controls",
            "_model_module_version": "1.5.0",
            "_model_name": "VBoxModel",
            "_view_count": null,
            "_view_module": "@jupyter-widgets/controls",
            "_view_module_version": "1.5.0",
            "_view_name": "VBoxView",
            "box_style": "",
            "children": [
              "IPY_MODEL_1d841471b9d74749afd1376b087fc866",
              "IPY_MODEL_14aa397e74d641b6820d8322d28887ba"
            ],
            "layout": "IPY_MODEL_43254a30969a483490b47a86004e4abe"
          }
        },
        "1d841471b9d74749afd1376b087fc866": {
          "model_module": "@jupyter-widgets/controls",
          "model_name": "IntSliderModel",
          "model_module_version": "1.5.0",
          "state": {
            "_dom_classes": [],
            "_model_module": "@jupyter-widgets/controls",
            "_model_module_version": "1.5.0",
            "_model_name": "IntSliderModel",
            "_view_count": null,
            "_view_module": "@jupyter-widgets/controls",
            "_view_module_version": "1.5.0",
            "_view_name": "IntSliderView",
            "continuous_update": true,
            "description": "t",
            "description_tooltip": null,
            "disabled": false,
            "layout": "IPY_MODEL_aef51bc1cf40412d95381deacbd9657f",
            "max": 50,
            "min": 0,
            "orientation": "horizontal",
            "readout": true,
            "readout_format": "d",
            "step": 1,
            "style": "IPY_MODEL_cd3307a8aecb4947a9bf81c4f6a772d9",
            "value": 13
          }
        },
        "14aa397e74d641b6820d8322d28887ba": {
          "model_module": "@jupyter-widgets/output",
          "model_name": "OutputModel",
          "model_module_version": "1.0.0",
          "state": {
            "_dom_classes": [],
            "_model_module": "@jupyter-widgets/output",
            "_model_module_version": "1.0.0",
            "_model_name": "OutputModel",
            "_view_count": null,
            "_view_module": "@jupyter-widgets/output",
            "_view_module_version": "1.0.0",
            "_view_name": "OutputView",
            "layout": "IPY_MODEL_88d05ea8270d41a89dd22dad49b21984",
            "msg_id": "",
            "outputs": [
              {
                "output_type": "display_data",
                "data": {
                  "text/plain": "<Figure size 640x480 with 1 Axes>",
                  "image/png": "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\n"
                },
                "metadata": {}
              }
            ]
          }
        },
        "43254a30969a483490b47a86004e4abe": {
          "model_module": "@jupyter-widgets/base",
          "model_name": "LayoutModel",
          "model_module_version": "1.2.0",
          "state": {
            "_model_module": "@jupyter-widgets/base",
            "_model_module_version": "1.2.0",
            "_model_name": "LayoutModel",
            "_view_count": null,
            "_view_module": "@jupyter-widgets/base",
            "_view_module_version": "1.2.0",
            "_view_name": "LayoutView",
            "align_content": null,
            "align_items": null,
            "align_self": null,
            "border": null,
            "bottom": null,
            "display": null,
            "flex": null,
            "flex_flow": null,
            "grid_area": null,
            "grid_auto_columns": null,
            "grid_auto_flow": null,
            "grid_auto_rows": null,
            "grid_column": null,
            "grid_gap": null,
            "grid_row": null,
            "grid_template_areas": null,
            "grid_template_columns": null,
            "grid_template_rows": null,
            "height": null,
            "justify_content": null,
            "justify_items": null,
            "left": null,
            "margin": null,
            "max_height": null,
            "max_width": null,
            "min_height": null,
            "min_width": null,
            "object_fit": null,
            "object_position": null,
            "order": null,
            "overflow": null,
            "overflow_x": null,
            "overflow_y": null,
            "padding": null,
            "right": null,
            "top": null,
            "visibility": null,
            "width": null
          }
        },
        "aef51bc1cf40412d95381deacbd9657f": {
          "model_module": "@jupyter-widgets/base",
          "model_name": "LayoutModel",
          "model_module_version": "1.2.0",
          "state": {
            "_model_module": "@jupyter-widgets/base",
            "_model_module_version": "1.2.0",
            "_model_name": "LayoutModel",
            "_view_count": null,
            "_view_module": "@jupyter-widgets/base",
            "_view_module_version": "1.2.0",
            "_view_name": "LayoutView",
            "align_content": null,
            "align_items": null,
            "align_self": null,
            "border": null,
            "bottom": null,
            "display": null,
            "flex": null,
            "flex_flow": null,
            "grid_area": null,
            "grid_auto_columns": null,
            "grid_auto_flow": null,
            "grid_auto_rows": null,
            "grid_column": null,
            "grid_gap": null,
            "grid_row": null,
            "grid_template_areas": null,
            "grid_template_columns": null,
            "grid_template_rows": null,
            "height": null,
            "justify_content": null,
            "justify_items": null,
            "left": null,
            "margin": null,
            "max_height": null,
            "max_width": null,
            "min_height": null,
            "min_width": null,
            "object_fit": null,
            "object_position": null,
            "order": null,
            "overflow": null,
            "overflow_x": null,
            "overflow_y": null,
            "padding": null,
            "right": null,
            "top": null,
            "visibility": null,
            "width": null
          }
        },
        "cd3307a8aecb4947a9bf81c4f6a772d9": {
          "model_module": "@jupyter-widgets/controls",
          "model_name": "SliderStyleModel",
          "model_module_version": "1.5.0",
          "state": {
            "_model_module": "@jupyter-widgets/controls",
            "_model_module_version": "1.5.0",
            "_model_name": "SliderStyleModel",
            "_view_count": null,
            "_view_module": "@jupyter-widgets/base",
            "_view_module_version": "1.2.0",
            "_view_name": "StyleView",
            "description_width": "",
            "handle_color": null
          }
        },
        "88d05ea8270d41a89dd22dad49b21984": {
          "model_module": "@jupyter-widgets/base",
          "model_name": "LayoutModel",
          "model_module_version": "1.2.0",
          "state": {
            "_model_module": "@jupyter-widgets/base",
            "_model_module_version": "1.2.0",
            "_model_name": "LayoutModel",
            "_view_count": null,
            "_view_module": "@jupyter-widgets/base",
            "_view_module_version": "1.2.0",
            "_view_name": "LayoutView",
            "align_content": null,
            "align_items": null,
            "align_self": null,
            "border": null,
            "bottom": null,
            "display": null,
            "flex": null,
            "flex_flow": null,
            "grid_area": null,
            "grid_auto_columns": null,
            "grid_auto_flow": null,
            "grid_auto_rows": null,
            "grid_column": null,
            "grid_gap": null,
            "grid_row": null,
            "grid_template_areas": null,
            "grid_template_columns": null,
            "grid_template_rows": null,
            "height": null,
            "justify_content": null,
            "justify_items": null,
            "left": null,
            "margin": null,
            "max_height": null,
            "max_width": null,
            "min_height": null,
            "min_width": null,
            "object_fit": null,
            "object_position": null,
            "order": null,
            "overflow": null,
            "overflow_x": null,
            "overflow_y": null,
            "padding": null,
            "right": null,
            "top": null,
            "visibility": null,
            "width": null
          }
        }
      }
    }
  },
  "cells": [
    {
      "cell_type": "markdown",
      "metadata": {
        "id": "view-in-github",
        "colab_type": "text"
      },
      "source": [
        "<a href=\"https://colab.research.google.com/github/krislars/compuphys/blob/main/Waves_gaussian.ipynb\" target=\"_parent\"><img src=\"https://colab.research.google.com/assets/colab-badge.svg\" alt=\"Open In Colab\"/></a>"
      ]
    },
    {
      "cell_type": "code",
      "metadata": {
        "id": "IWauZ-gntY7G"
      },
      "source": [
        "import numpy as np\n",
        "from matplotlib import pyplot as plt\n",
        "from ipywidgets import interactive, interact\n",
        "import ipywidgets as widgets"
      ],
      "execution_count": null,
      "outputs": []
    },
    {
      "cell_type": "code",
      "metadata": {
        "id": "4OGcDruQ0Ky7",
        "colab": {
          "base_uri": "https://localhost:8080/"
        },
        "outputId": "f54708bb-4937-433c-bdd6-2e7675c1b187"
      },
      "source": [
        "size = 100\n",
        "dx = 0.1\n",
        "dt = 0.1\n",
        "v = 0.5\n",
        "r = v*dt/dx\n",
        "r"
      ],
      "execution_count": null,
      "outputs": [
        {
          "output_type": "execute_result",
          "data": {
            "text/plain": [
              "0.5"
            ]
          },
          "metadata": {},
          "execution_count": 2
        }
      ]
    },
    {
      "cell_type": "code",
      "source": [],
      "metadata": {
        "id": "kqDM5Rw7r77_"
      },
      "execution_count": null,
      "outputs": []
    },
    {
      "cell_type": "code",
      "metadata": {
        "id": "1bdvlhCEtgSH",
        "colab": {
          "base_uri": "https://localhost:8080/",
          "height": 430
        },
        "outputId": "d715754d-6201-47fe-d069-4bde96404deb"
      },
      "source": [
        "x = np.arange(size)*dx\n",
        "ynow = np.zeros(size)\n",
        "yprev = np.zeros(size)\n",
        "ynext = np.zeros(size)\n",
        "\n",
        "x_start = 2.\n",
        "sigma = 0.5\n",
        "amp = 0.1\n",
        "ynow[1:-1] = amp*np.exp(-(x[1:-1]-x_start)**2/(2*sigma**2)) # do not update ends\n",
        "yprev = np.copy(ynow)\n",
        "\n",
        "plt.plot(x,ynow)\n",
        "plt.ylim(-0.5,0.5)\n",
        "plt.show()"
      ],
      "execution_count": null,
      "outputs": [
        {
          "output_type": "display_data",
          "data": {
            "text/plain": [
              "<Figure size 640x480 with 1 Axes>"
            ],
            "image/png": "[encoded data removed]"
          },
          "metadata": {}
        }
      ]
    },
    {
      "cell_type": "code",
      "metadata": {
        "id": "roVntQK51QoZ"
      },
      "source": [
        "def propagate(t):\n",
        "    ynow = np.zeros(size)\n",
        "    yprev = np.zeros(size)\n",
        "    ynext = np.zeros(size)\n",
        "    ynow[1:-1] = amp*np.exp(-(x[1:-1]-x_start)**2/(2*sigma**2)) # do not update ends\n",
        "    yprev = np.copy(ynow)\n",
        "    if t == 0:\n",
        "        plt.plot(x,ynow)\n",
        "    else:\n",
        "        for i in range(int(t/dt)):\n",
        "            for j in range(1,size-1):\n",
        "                ynext[j] = -yprev[j]+2*ynow[j]*(1-r**2) + r**2*(ynow[j+1] + ynow[j-1])\n",
        "            yprev = np.copy(ynow)\n",
        "            ynow = np.copy(ynext)\n",
        "        plt.plot(x,ynext)\n",
        "    plt.ylim(-0.5,0.5)\n",
        "    plt.show()"
      ],
      "execution_count": null,
      "outputs": []
    },
    {
      "cell_type": "code",
      "metadata": {
        "id": "ywofD1q9GG69",
        "colab": {
          "base_uri": "https://localhost:8080/",
          "height": 462,
          "referenced_widgets": [
            "0ace54816df146a6a81b6bde0b315da8",
            "1d841471b9d74749afd1376b087fc866",
            "14aa397e74d641b6820d8322d28887ba",
            "43254a30969a483490b47a86004e4abe",
            "aef51bc1cf40412d95381deacbd9657f",
            "cd3307a8aecb4947a9bf81c4f6a772d9",
            "88d05ea8270d41a89dd22dad49b21984"
          ]
        },
        "outputId": "3b367d9c-2ef9-4c62-9955-6f875b401139"
      },
      "source": [
        "interact(propagate, t=widgets.IntSlider(min=0, max=50, value=0));"
      ],
      "execution_count": null,
      "outputs": [
        {
          "output_type": "display_data",
          "data": {
            "text/plain": [
              "interactive(children=(IntSlider(value=0, description='t', max=50), Output()), _dom_classes=('widget-interact',…"
            ],
            "application/vnd.jupyter.widget-view+json": {
              "version_major": 2,
              "version_minor": 0,
              "model_id": "0ace54816df146a6a81b6bde0b315da8"
            }
          },
          "metadata": {}
        }
      ]
    },
    {
      "cell_type": "code",
      "metadata": {
        "id": "Ss3NiiH1JFK9"
      },
      "source": [],
      "execution_count": null,
      "outputs": []
    }
  ]
}