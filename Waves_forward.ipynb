{
  "nbformat": 4,
  "nbformat_minor": 0,
  "metadata": {
    "colab": {
      "provenance": [],
      "authorship_tag": "ABX9TyPgQEKH74QDxZe+vi/UlM44",
      "include_colab_link": true
    },
    "kernelspec": {
      "name": "python3",
      "display_name": "Python 3"
    },
    "language_info": {
      "name": "python"
    },
    "widgets": {
      "application/vnd.jupyter.widget-state+json": {
        "862961ec56cd44b4b30881ae74d822e7": {
          "model_module": "@jupyter-widgets/controls",
          "model_name": "VBoxModel",
          "model_module_version": "1.5.0",
          "state": {
            "_dom_classes": [
              "widget-interact"
            ],
            "_model_module": "@jupyter-widgets/controls",
            "_model_module_version": "1.5.0",
            "_model_name": "VBoxModel",
            "_view_count": null,
            "_view_module": "@jupyter-widgets/controls",
            "_view_module_version": "1.5.0",
            "_view_name": "VBoxView",
            "box_style": "",
            "children": [
              "IPY_MODEL_446ff5c4d95243bd9856a296a27cec1f",
              "IPY_MODEL_459ca352714d47f3a502651c9f0a3b4c"
            ],
            "layout": "IPY_MODEL_9860fd2c2cbf43d98005b5f5dca19d2d"
          }
        },
        "446ff5c4d95243bd9856a296a27cec1f": {
          "model_module": "@jupyter-widgets/controls",
          "model_name": "IntSliderModel",
          "model_module_version": "1.5.0",
          "state": {
            "_dom_classes": [],
            "_model_module": "@jupyter-widgets/controls",
            "_model_module_version": "1.5.0",
            "_model_name": "IntSliderModel",
            "_view_count": null,
            "_view_module": "@jupyter-widgets/controls",
            "_view_module_version": "1.5.0",
            "_view_name": "IntSliderView",
            "continuous_update": true,
            "description": "t",
            "description_tooltip": null,
            "disabled": false,
            "layout": "IPY_MODEL_a5ad377b95a64897ab54e85278617a61",
            "max": 50,
            "min": 0,
            "orientation": "horizontal",
            "readout": true,
            "readout_format": "d",
            "step": 1,
            "style": "IPY_MODEL_b5dc5567a67a4d22a8a735291ba69f12",
            "value": 11
          }
        },
        "459ca352714d47f3a502651c9f0a3b4c": {
          "model_module": "@jupyter-widgets/output",
          "model_name": "OutputModel",
          "model_module_version": "1.0.0",
          "state": {
            "_dom_classes": [],
            "_model_module": "@jupyter-widgets/output",
            "_model_module_version": "1.0.0",
            "_model_name": "OutputModel",
            "_view_count": null,
            "_view_module": "@jupyter-widgets/output",
            "_view_module_version": "1.0.0",
            "_view_name": "OutputView",
            "layout": "IPY_MODEL_894b5790edf84f86bee1bc5e56137f77",
            "msg_id": "",
            "outputs": [
              {
                "output_type": "display_data",
                "data": {
                  "text/plain": "<Figure size 640x480 with 1 Axes>",
                  "image/png": "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\n"
                },
                "metadata": {}
              }
            ]
          }
        },
        "9860fd2c2cbf43d98005b5f5dca19d2d": {
          "model_module": "@jupyter-widgets/base",
          "model_name": "LayoutModel",
          "model_module_version": "1.2.0",
          "state": {
            "_model_module": "@jupyter-widgets/base",
            "_model_module_version": "1.2.0",
            "_model_name": "LayoutModel",
            "_view_count": null,
            "_view_module": "@jupyter-widgets/base",
            "_view_module_version": "1.2.0",
            "_view_name": "LayoutView",
            "align_content": null,
            "align_items": null,
            "align_self": null,
            "border": null,
            "bottom": null,
            "display": null,
            "flex": null,
            "flex_flow": null,
            "grid_area": null,
            "grid_auto_columns": null,
            "grid_auto_flow": null,
            "grid_auto_rows": null,
            "grid_column": null,
            "grid_gap": null,
            "grid_row": null,
            "grid_template_areas": null,
            "grid_template_columns": null,
            "grid_template_rows": null,
            "height": null,
            "justify_content": null,
            "justify_items": null,
            "left": null,
            "margin": null,
            "max_height": null,
            "max_width": null,
            "min_height": null,
            "min_width": null,
            "object_fit": null,
            "object_position": null,
            "order": null,
            "overflow": null,
            "overflow_x": null,
            "overflow_y": null,
            "padding": null,
            "right": null,
            "top": null,
            "visibility": null,
            "width": null
          }
        },
        "a5ad377b95a64897ab54e85278617a61": {
          "model_module": "@jupyter-widgets/base",
          "model_name": "LayoutModel",
          "model_module_version": "1.2.0",
          "state": {
            "_model_module": "@jupyter-widgets/base",
            "_model_module_version": "1.2.0",
            "_model_name": "LayoutModel",
            "_view_count": null,
            "_view_module": "@jupyter-widgets/base",
            "_view_module_version": "1.2.0",
            "_view_name": "LayoutView",
            "align_content": null,
            "align_items": null,
            "align_self": null,
            "border": null,
            "bottom": null,
            "display": null,
            "flex": null,
            "flex_flow": null,
            "grid_area": null,
            "grid_auto_columns": null,
            "grid_auto_flow": null,
            "grid_auto_rows": null,
            "grid_column": null,
            "grid_gap": null,
            "grid_row": null,
            "grid_template_areas": null,
            "grid_template_columns": null,
            "grid_template_rows": null,
            "height": null,
            "justify_content": null,
            "justify_items": null,
            "left": null,
            "margin": null,
            "max_height": null,
            "max_width": null,
            "min_height": null,
            "min_width": null,
            "object_fit": null,
            "object_position": null,
            "order": null,
            "overflow": null,
            "overflow_x": null,
            "overflow_y": null,
            "padding": null,
            "right": null,
            "top": null,
            "visibility": null,
            "width": null
          }
        },
        "b5dc5567a67a4d22a8a735291ba69f12": {
          "model_module": "@jupyter-widgets/controls",
          "model_name": "SliderStyleModel",
          "model_module_version": "1.5.0",
          "state": {
            "_model_module": "@jupyter-widgets/controls",
            "_model_module_version": "1.5.0",
            "_model_name": "SliderStyleModel",
            "_view_count": null,
            "_view_module": "@jupyter-widgets/base",
            "_view_module_version": "1.2.0",
            "_view_name": "StyleView",
            "description_width": "",
            "handle_color": null
          }
        },
        "894b5790edf84f86bee1bc5e56137f77": {
          "model_module": "@jupyter-widgets/base",
          "model_name": "LayoutModel",
          "model_module_version": "1.2.0",
          "state": {
            "_model_module": "@jupyter-widgets/base",
            "_model_module_version": "1.2.0",
            "_model_name": "LayoutModel",
            "_view_count": null,
            "_view_module": "@jupyter-widgets/base",
            "_view_module_version": "1.2.0",
            "_view_name": "LayoutView",
            "align_content": null,
            "align_items": null,
            "align_self": null,
            "border": null,
            "bottom": null,
            "display": null,
            "flex": null,
            "flex_flow": null,
            "grid_area": null,
            "grid_auto_columns": null,
            "grid_auto_flow": null,
            "grid_auto_rows": null,
            "grid_column": null,
            "grid_gap": null,
            "grid_row": null,
            "grid_template_areas": null,
            "grid_template_columns": null,
            "grid_template_rows": null,
            "height": null,
            "justify_content": null,
            "justify_items": null,
            "left": null,
            "margin": null,
            "max_height": null,
            "max_width": null,
            "min_height": null,
            "min_width": null,
            "object_fit": null,
            "object_position": null,
            "order": null,
            "overflow": null,
            "overflow_x": null,
            "overflow_y": null,
            "padding": null,
            "right": null,
            "top": null,
            "visibility": null,
            "width": null
          }
        }
      }
    }
  },
  "cells": [
    {
      "cell_type": "markdown",
      "metadata": {
        "id": "view-in-github",
        "colab_type": "text"
      },
      "source": [
        "<a href=\"https://colab.research.google.com/github/krislars/compuphys/blob/main/Waves_forward.ipynb\" target=\"_parent\"><img src=\"https://colab.research.google.com/assets/colab-badge.svg\" alt=\"Open In Colab\"/></a>"
      ]
    },
    {
      "cell_type": "markdown",
      "source": [
        "This notebooks starts the pulse moving in the forward direction."
      ],
      "metadata": {
        "id": "UPgFF7UqbmQc"
      }
    },
    {
      "cell_type": "code",
      "metadata": {
        "id": "IWauZ-gntY7G"
      },
      "source": [
        "import numpy as np\n",
        "from matplotlib import pyplot as plt\n",
        "from ipywidgets import interactive, interact\n",
        "import ipywidgets as widgets"
      ],
      "execution_count": null,
      "outputs": []
    },
    {
      "cell_type": "code",
      "metadata": {
        "id": "4OGcDruQ0Ky7",
        "colab": {
          "base_uri": "https://localhost:8080/"
        },
        "outputId": "5684be8b-d947-4278-efec-1d6d9a91e52f"
      },
      "source": [
        "size = 100\n",
        "dx = 0.1\n",
        "dt = 0.1\n",
        "v = 0.5\n",
        "r = v*dt/dx\n",
        "r"
      ],
      "execution_count": null,
      "outputs": [
        {
          "output_type": "execute_result",
          "data": {
            "text/plain": [
              "0.5"
            ]
          },
          "metadata": {},
          "execution_count": 2
        }
      ]
    },
    {
      "cell_type": "markdown",
      "source": [
        "Explore the initial conditions:"
      ],
      "metadata": {
        "id": "hRHE-7FefnbC"
      }
    },
    {
      "cell_type": "code",
      "metadata": {
        "id": "1bdvlhCEtgSH",
        "colab": {
          "base_uri": "https://localhost:8080/",
          "height": 430
        },
        "outputId": "c90403ba-e53d-4947-b6a9-7c607070a4da"
      },
      "source": [
        "x = np.arange(size)*dx\n",
        "ynow = np.zeros(size)\n",
        "yprev = np.zeros(size)\n",
        "ynext = np.zeros(size)\n",
        "\n",
        "x_start = 2.\n",
        "sigma = 0.5\n",
        "amp = 0.1\n",
        "ynow[1:-1] = amp*np.exp(-(x[1:-1]-x_start)**2/(2*sigma**2)) # do not update ends\n",
        "yprev[1:-1] = amp*np.exp(-(x[1:-1]-(x_start-v*dt))**2/(2*sigma**2)) # do not update ends\n",
        "\n",
        "fig,ax = plt.subplots(1,1)\n",
        "ax.plot(x,ynow)\n",
        "ax.plot(x,yprev)\n",
        "ax.set_ylim(-0.5,0.5)\n",
        "fig.show()"
      ],
      "execution_count": null,
      "outputs": [
        {
          "output_type": "display_data",
          "data": {
            "text/plain": [
              "<Figure size 640x480 with 1 Axes>"
            ],
            "image/png": "[encoded data removed]"
          },
          "metadata": {}
        }
      ]
    },
    {
      "cell_type": "code",
      "metadata": {
        "id": "roVntQK51QoZ"
      },
      "source": [
        "def propagate(t):\n",
        "    ynow = np.zeros(size)\n",
        "    yprev = np.zeros(size)\n",
        "    ynext = np.zeros(size)\n",
        "    ynow[1:-1] = amp*np.exp(-(x[1:-1]-x_start)**2/(2*sigma**2)) # do not update ends\n",
        "    yprev[1:-1] = amp*np.exp(-(x[1:-1]-(x_start-v*dt))**2/(2*sigma**2)) # do not update ends\n",
        "    plt.plot(x,ynow,':')\n",
        "    if t == 0:\n",
        "        plt.plot(x,ynow)\n",
        "    else:\n",
        "        for i in range(int(t/dt)):\n",
        "            for j in range(1,size-1):\n",
        "                ynext[j] = -yprev[j]+2*ynow[j]*(1-r**2) + r**2*(ynow[j+1] + ynow[j-1])\n",
        "            yprev = np.copy(ynow)\n",
        "            ynow = np.copy(ynext)\n",
        "        plt.plot(x,ynext)\n",
        "    plt.ylim(-0.5,0.5)\n",
        "    plt.show()"
      ],
      "execution_count": null,
      "outputs": []
    },
    {
      "cell_type": "code",
      "metadata": {
        "id": "ywofD1q9GG69",
        "colab": {
          "base_uri": "https://localhost:8080/",
          "height": 462,
          "referenced_widgets": [
            "862961ec56cd44b4b30881ae74d822e7",
            "446ff5c4d95243bd9856a296a27cec1f",
            "459ca352714d47f3a502651c9f0a3b4c",
            "9860fd2c2cbf43d98005b5f5dca19d2d",
            "a5ad377b95a64897ab54e85278617a61",
            "b5dc5567a67a4d22a8a735291ba69f12",
            "894b5790edf84f86bee1bc5e56137f77"
          ]
        },
        "outputId": "f2ae9b10-1416-420f-fe26-04bd41e97e49"
      },
      "source": [
        "interact(propagate, t=widgets.IntSlider(min=0, max=50, value=0));"
      ],
      "execution_count": null,
      "outputs": [
        {
          "output_type": "display_data",
          "data": {
            "text/plain": [
              "interactive(children=(IntSlider(value=0, description='t', max=50), Output()), _dom_classes=('widget-interact',…"
            ],
            "application/vnd.jupyter.widget-view+json": {
              "version_major": 2,
              "version_minor": 0,
              "model_id": "862961ec56cd44b4b30881ae74d822e7"
            }
          },
          "metadata": {}
        }
      ]
    },
    {
      "cell_type": "code",
      "metadata": {
        "id": "Ss3NiiH1JFK9"
      },
      "source": [],
      "execution_count": null,
      "outputs": []
    }
  ]
}