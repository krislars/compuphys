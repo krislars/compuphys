{
  "nbformat": 4,
  "nbformat_minor": 0,
  "metadata": {
    "colab": {
      "provenance": [],
      "authorship_tag": "ABX9TyM8ejpUAyI3v14ckOfCONVa",
      "include_colab_link": true
    },
    "kernelspec": {
      "name": "python3",
      "display_name": "Python 3"
    },
    "language_info": {
      "name": "python"
    }
  },
  "cells": [
    {
      "cell_type": "markdown",
      "metadata": {
        "id": "view-in-github",
        "colab_type": "text"
      },
      "source": [
        "<a href=\"https://colab.research.google.com/github/krislars/compuphys/blob/main/HW0_sample.ipynb\" target=\"_parent\"><img src=\"https://colab.research.google.com/assets/colab-badge.svg\" alt=\"Open In Colab\"/></a>"
      ]
    },
    {
      "cell_type": "markdown",
      "source": [
        "# HW 0: Radioactive Decay\n",
        "\n",
        "Kristen Larson\n",
        "\n",
        "March 29, 2023"
      ],
      "metadata": {
        "id": "O8AM5qgpP-oD"
      }
    },
    {
      "cell_type": "markdown",
      "source": [
        "## WHY [Are We Here?]\n",
        "\n",
        "Radioactive decay is a statistical process in which the number of particles that decay per unit time is proportional to the number of particles that exist at that time.  In other words, the time rate of change of the number of particles, $N$, is negative and proportional to $N$.  We write the constant of proportionality as\n",
        "\n",
        "$$ \\frac{dN}{dt}= -\\frac{1}{\\tau}N$$\n",
        "\n",
        "where $\\tau$ is called the <i>time constant</i>.  In the problem, we will calculate the average lifetime of a particle and compare it to $\\tau$."
      ],
      "metadata": {
        "id": "tn85AvAYQUCe"
      }
    },
    {
      "cell_type": "code",
      "source": [
        "from matplotlib import pyplot as plt\n",
        "import numpy as np"
      ],
      "metadata": {
        "id": "CN37OUj3RnBQ"
      },
      "execution_count": null,
      "outputs": []
    },
    {
      "cell_type": "markdown",
      "source": [
        "## WHAT [Calculations Do You Do?]\n",
        "\n",
        "I use the Euler method to solve the differential equation for N.  After initializing the number of particles and the time constant, I create a loop.  For each time step $\\Delta t$, I update $t$ and $N$:\n",
        "\n",
        "> t = t + dt  \n",
        "> N = N - (N/tau)*dt\n",
        "\n",
        "Then, to calculate the average lifetime, I do a weighted sum of the number of particles lost in each step multiplied by the time those particles decayed."
      ],
      "metadata": {
        "id": "VEchlxOnRGja"
      }
    },
    {
      "cell_type": "code",
      "source": [
        "# First initialize values\n",
        "tau = 1.\n",
        "dt = tau/100\n",
        "steps = 1000\n",
        "t = np.zeros(steps)\n",
        "N = np.zeros(steps)\n",
        "N[0] = 1000.0"
      ],
      "metadata": {
        "id": "ubCTP0rFbCUI"
      },
      "execution_count": null,
      "outputs": []
    },
    {
      "cell_type": "code",
      "source": [
        "for i in range(steps-1):\n",
        "    t[i+1] = t[i] + dt\n",
        "    N[i+1] = N[i] - dt*N[i]/tau"
      ],
      "metadata": {
        "id": "Mgv0pna3byRZ"
      },
      "execution_count": null,
      "outputs": []
    },
    {
      "cell_type": "code",
      "source": [
        "np.sum(t*N/tau)/np.sum(N/tau)"
      ],
      "metadata": {
        "colab": {
          "base_uri": "https://localhost:8080/"
        },
        "id": "NkXtwmgIgAmL",
        "outputId": "83a5d2e1-06dd-43a0-9351-706fd0969cf3"
      },
      "execution_count": null,
      "outputs": [
        {
          "output_type": "execute_result",
          "data": {
            "text/plain": [
              "0.9895682688875203"
            ]
          },
          "metadata": {},
          "execution_count": 33
        }
      ]
    },
    {
      "cell_type": "markdown",
      "source": [
        "## HOW [Do You Know the Computer Is Doing What You Think It Is Doing?]\n",
        "\n",
        "This problem has a well-known analytic solution,\n",
        "\n",
        "$$\n",
        "N = N_0 e^{-t/\\tau}\n",
        "$$\n",
        "\n",
        "Here we show that our calculations are equivalent to the calculations for the parameters we chose, so we can have confidence in our code."
      ],
      "metadata": {
        "id": "uMuGLpR9RmCT"
      }
    },
    {
      "cell_type": "code",
      "execution_count": null,
      "metadata": {
        "id": "OVVVNYWIP2_C",
        "colab": {
          "base_uri": "https://localhost:8080/",
          "height": 279
        },
        "outputId": "05aca135-9cff-402c-fb04-093845328fac"
      },
      "outputs": [
        {
          "output_type": "display_data",
          "data": {
            "text/plain": [
              "<Figure size 432x288 with 1 Axes>"
            ],
            "image/png": "[encoded data removed]"
          },
          "metadata": {
            "needs_background": "light"
          }
        }
      ],
      "source": [
        "fig, ax = plt.subplots(1, 1)\n",
        "ax.plot(t, N, 'r.', label='calculations')\n",
        "ax.plot(t, N[0]*np.exp(-t/tau), 'k', label='analytic solution')\n",
        "ax.legend(loc='best')\n",
        "ax.set_ylabel('N')\n",
        "ax.set_xlabel('t')\n",
        "plt.show()"
      ]
    },
    {
      "cell_type": "markdown",
      "source": [
        "## SO WHAT?\n",
        "\n",
        "| Time constant | Mean Lifetime |\n",
        "| -----------   | -----------   |\n",
        "| 1.0           | 0.990         |\n",
        "| 2.0           | 1.979         |\n",
        "| 3.0           | 2.969         |\n",
        "\n",
        "We tried several values of $\\tau$ and found that the average lifetime is simply equal to the time constant within the computational accuracy of the Euler method."
      ],
      "metadata": {
        "id": "sMTtCzDuUABW"
      }
    },
    {
      "cell_type": "code",
      "source": [],
      "metadata": {
        "id": "8BlOiIfbXdh3"
      },
      "execution_count": null,
      "outputs": []
    }
  ]
}