{
  "nbformat": 4,
  "nbformat_minor": 0,
  "metadata": {
    "colab": {
      "provenance": [],
      "authorship_tag": "ABX9TyPeWbGtdYvY+c8C/hvnXiYn",
      "include_colab_link": true
    },
    "kernelspec": {
      "name": "python3",
      "display_name": "Python 3"
    },
    "language_info": {
      "name": "python"
    }
  },
  "cells": [
    {
      "cell_type": "markdown",
      "metadata": {
        "id": "view-in-github",
        "colab_type": "text"
      },
      "source": [
        "<a href=\"https://colab.research.google.com/github/krislars/compuphys/blob/main/Percolation.ipynb\" target=\"_parent\"><img src=\"https://colab.research.google.com/assets/colab-badge.svg\" alt=\"Open In Colab\"/></a>"
      ]
    },
    {
      "cell_type": "markdown",
      "source": [
        "## Why: The Physics"
      ],
      "metadata": {
        "id": "4D9FXfWTJEJ8"
      }
    },
    {
      "cell_type": "markdown",
      "source": [
        "The physics of percolation is simple. If we have a lattice of sites, what fraction of the sites must be allowed for a cluster of allowed sites to span a space?  Here, we will define a cluster as sites connected by a path that moves up, down, left, or right.  That is, movement diagonally is not allowed. Many systems are analogous to percolation, such as the motion of groundwater through soil.\n"
      ],
      "metadata": {
        "id": "ckKka1ChI452"
      }
    },
    {
      "cell_type": "markdown",
      "source": [
        "## How: The Method"
      ],
      "metadata": {
        "id": "XWT8EH2nJHw6"
      }
    },
    {
      "cell_type": "markdown",
      "source": [
        "The percolation problem uses a powerful tool: random number generation.  We will generate an array of random numbers, which defaults to the span from zero to one.  Then, we will choose a probability $p$ of whether a site is allowed or not and assign sites as being one or zero based on whether the random number is below or above the probability.  The probability can be interpreted as the density or concentration of allowable sites.\n",
        "\n",
        "Figuring out if sites are connected is harder, but here we will use a brute-strength method.  We will first seed (or 'irrigate') one edge with twos.  We will choose sites randomly, and if they are zero, do nothing.  If they are one, we will check all four neighbors and set the site to the maximum of the neighbors.  Eventually, we will see twos percolate through the system."
      ],
      "metadata": {
        "id": "X606V6mpZtVK"
      }
    },
    {
      "cell_type": "markdown",
      "source": [
        "## What: The Code"
      ],
      "metadata": {
        "id": "ni9EydTjJThq"
      }
    },
    {
      "cell_type": "code",
      "execution_count": 12,
      "metadata": {
        "id": "_cOakLyR0ZPd"
      },
      "outputs": [],
      "source": [
        "import numpy as np\n",
        "from matplotlib import pyplot as plt\n",
        "import random"
      ]
    },
    {
      "cell_type": "code",
      "source": [
        "size=100\n",
        "p=0.5\n",
        "z=np.random.random([size,size])\n",
        "z[z<p]=1.0\n",
        "z[z!=1.0]=0.0\n",
        "plt.imshow(z,vmax=2)\n",
        "plt.axis('off')\n",
        "plt.show()"
      ],
      "metadata": {
        "colab": {
          "base_uri": "https://localhost:8080/",
          "height": 406
        },
        "id": "qM0gUS8e0gN_",
        "outputId": "4e83685a-d4e5-498c-94a2-697169b2296d"
      },
      "execution_count": 13,
      "outputs": [
        {
          "output_type": "display_data",
          "data": {
            "text/plain": [
              "<Figure size 640x480 with 1 Axes>"
            ],
            "image/png": "[encoded data removed]"
          },
          "metadata": {}
        }
      ]
    },
    {
      "cell_type": "code",
      "source": [
        "z[:,0],z[:,size-1]=0.0,0.0 # prevent water from leaving the sides\n",
        "z[0,:]=np.where(z[0,:]==1.0,2,z[0,:]) # irrigate the first row by replacing ones with twos\n",
        "plt.imshow(z)\n",
        "plt.axis('off')\n",
        "plt.show()"
      ],
      "metadata": {
        "colab": {
          "base_uri": "https://localhost:8080/",
          "height": 406
        },
        "id": "U5GFKdOR1mSF",
        "outputId": "38a64e33-8997-4afe-bad7-abb76a49de64"
      },
      "execution_count": 14,
      "outputs": [
        {
          "output_type": "display_data",
          "data": {
            "text/plain": [
              "<Figure size 640x480 with 1 Axes>"
            ],
            "image/png": "[encoded data removed]"
          },
          "metadata": {}
        }
      ]
    },
    {
      "cell_type": "markdown",
      "source": [
        "You should run the cell below a few times to see what happens."
      ],
      "metadata": {
        "id": "fkswb1CcH2rM"
      }
    },
    {
      "cell_type": "code",
      "source": [
        "for i in range(10*size**2): # each site checked several times\n",
        "    x=random.randint(1,size-1) # skip top irrigated row\n",
        "    y=random.randint(1,size-2) # skip the sides\n",
        "    if z[x,y]==1.0: # don't change the zeros, twos are already checked\n",
        "        if x==size-1: # bottom row\n",
        "            z[x,y]=max(z[x,y+1],z[x-1,y],z[x,y-1])\n",
        "        else:\n",
        "            z[x,y]=max(z[x+1,y],z[x,y+1],z[x-1,y],z[x,y-1])\n",
        "plt.imshow(z)\n",
        "plt.title('p = '+str(p)+' partial run')\n",
        "plt.axis('off')\n",
        "plt.show()"
      ],
      "metadata": {
        "colab": {
          "base_uri": "https://localhost:8080/",
          "height": 428
        },
        "id": "UQ4pyjXeHqN2",
        "outputId": "a9112f9a-97e2-4f9b-ae2b-2be738bb8954"
      },
      "execution_count": 15,
      "outputs": [
        {
          "output_type": "display_data",
          "data": {
            "text/plain": [
              "<Figure size 640x480 with 1 Axes>"
            ],
            "image/png": "[encoded data removed]"
          },
          "metadata": {}
        }
      ]
    },
    {
      "cell_type": "markdown",
      "source": [
        "Now what we want to do is reinitialize and keep checking sites until checking every site yields no changes. If there are any twos in the last row, the cluster spans."
      ],
      "metadata": {
        "id": "-b-we_1WH7gu"
      }
    },
    {
      "cell_type": "code",
      "source": [
        "size=100 # PLAY HERE\n",
        "p=0.6 # PLAY HERE\n",
        "z=np.random.random([size,size])\n",
        "z[z<p]=1.0\n",
        "z[z!=1.0]=0.0\n",
        "z[:,0],z[:,size-1]=0.0,0.0 # prevent water from leaving the sides\n",
        "z[0,:]=np.where(z[0,:]==1.0,2,z[0,:]) # irrigate the first row by replacing ones with twos\n",
        "flipped=True\n",
        "while flipped==True:\n",
        "    flipped=False\n",
        "    for i in range(10*size**2): # each site checked several times\n",
        "        x=random.randint(1,size-1) # skip top irrigated row\n",
        "        y=random.randint(1,size-2) # skip the sides\n",
        "        if z[x,y]==1.0: # don't change the zeros, twos are already checked\n",
        "            if x==size-1: # bottom row\n",
        "                z[x,y]=max(z[x,y+1],z[x-1,y],z[x,y-1])\n",
        "            else:\n",
        "                z[x,y]=max(z[x+1,y],z[x,y+1],z[x-1,y],z[x,y-1])\n",
        "            if z[x,y]==2.0: # did it change?\n",
        "                flipped=True\n",
        "plt.imshow(z)\n",
        "if 2.0 in z[size-1,:]: # check last row to see if it spans\n",
        "    plt.title('p = '+str(p)+' spans!')\n",
        "else:\n",
        "    plt.title('p = '+str(p)+' does not span')\n",
        "plt.axis('off')\n",
        "plt.show()"
      ],
      "metadata": {
        "colab": {
          "base_uri": "https://localhost:8080/",
          "height": 428
        },
        "id": "gn3jOfAJ60KB",
        "outputId": "d933b8c8-bac3-4446-d661-2fa8a4f9c408"
      },
      "execution_count": 18,
      "outputs": [
        {
          "output_type": "display_data",
          "data": {
            "text/plain": [
              "<Figure size 640x480 with 1 Axes>"
            ],
            "image/png": "[encoded data removed]"
          },
          "metadata": {}
        }
      ]
    },
    {
      "cell_type": "markdown",
      "source": [
        "Now try several values of $p$ to find the critical density for a spanning cluster.  You should notice that some values always span, some values never span, and some values sometimes span.  How should we handle that?  \n",
        "\n",
        "Next try several different cluster sizes.  How does the critical density depend on the size of the system?"
      ],
      "metadata": {
        "id": "CvEPDznoUlQm"
      }
    },
    {
      "cell_type": "markdown",
      "source": [
        "## So What: The Take-Home Message"
      ],
      "metadata": {
        "id": "ko_N5Q3TJTVi"
      }
    },
    {
      "cell_type": "markdown",
      "source": [
        "The behavior near the critical density is an example of a second-order phase transition."
      ],
      "metadata": {
        "id": "PPuAYqMjWdAZ"
      }
    }
  ]
}